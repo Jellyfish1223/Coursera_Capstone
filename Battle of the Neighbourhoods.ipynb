{
 "cells": [
  {
   "cell_type": "markdown",
   "metadata": {},
   "source": [
    "# Where in London needs coffee?\n",
    "## Aim: To use Foursquare data to identify areas of Central London that need new coffee shops based on number of coffee shops already available and the rating of those coffee shops."
   ]
  },
  {
   "cell_type": "markdown",
   "metadata": {},
   "source": [
    "For this project, I decided to work out where the best place would be for a new coffee shop to open in London, taking into consideration the number of coffee shops already in the area and the ratings they have. If there are lots of coffee shops with mainly good reviews, that implies that the loyal customer base would be unlikely to switch to a new business so the best area would have few coffee shops and/or lower ratings on the coffee shops already there."
   ]
  },
  {
   "cell_type": "markdown",
   "metadata": {},
   "source": [
    "The data I will be utilising is the coffee shop category from FourSquare looking at Central London to summarise the number of coffee shops and the average rating of those coffee shops."
   ]
  },
  {
   "cell_type": "code",
   "execution_count": null,
   "metadata": {},
   "outputs": [],
   "source": []
  }
 ],
 "metadata": {
  "kernelspec": {
   "display_name": "Python 3",
   "language": "python",
   "name": "python3"
  },
  "language_info": {
   "codemirror_mode": {
    "name": "ipython",
    "version": 3
   },
   "file_extension": ".py",
   "mimetype": "text/x-python",
   "name": "python",
   "nbconvert_exporter": "python",
   "pygments_lexer": "ipython3",
   "version": "3.8.3"
  }
 },
 "nbformat": 4,
 "nbformat_minor": 4
}
